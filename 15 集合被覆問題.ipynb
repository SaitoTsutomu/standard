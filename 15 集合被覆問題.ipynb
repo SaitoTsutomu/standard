{
 "cells": [
  {
   "cell_type": "markdown",
   "metadata": {
    "collapsed": true
   },
   "source": [
    "## [集合被覆問題](http://qiita.com/Tsutomu-KKE@github/items/b1f3a24aaf50afd93e09)\n",
    "\n",
    "集合$M=\\{1,\\dots,m\\}$の$n$個の部分集合$S_j(\\subseteq M), j \\in N=\\{1,\\dots,n\\}$に対してコスト$c_j$が与えられているとする。コストの総和が最小となる$M$の被覆$X(\\subseteq N)$を求めよ。被覆は、部分集合の中に同じ要素があってもよい。"
   ]
  },
  {
   "cell_type": "code",
   "execution_count": null,
   "metadata": {
    "collapsed": true
   },
   "outputs": [],
   "source": [
    "import pandas as pd\n",
    "from ortoolpy import set_covering"
   ]
  },
  {
   "cell_type": "code",
   "execution_count": null,
   "metadata": {
    "collapsed": false,
    "scrolled": true
   },
   "outputs": [],
   "source": [
    "help(set_covering)"
   ]
  },
  {
   "cell_type": "markdown",
   "metadata": {},
   "source": [
    "![集合被覆問題](data/set.gif)"
   ]
  },
  {
   "cell_type": "markdown",
   "metadata": {},
   "source": [
    "### CSVデータ"
   ]
  },
  {
   "cell_type": "code",
   "execution_count": null,
   "metadata": {
    "collapsed": false
   },
   "outputs": [],
   "source": [
    "ss = pd.read_csv('data/subset.csv')\n",
    "g = ss.groupby('id')\n",
    "set_covering(len(g), [(r.weight.iloc[0], r.element.tolist()) for _, r in g])"
   ]
  },
  {
   "cell_type": "markdown",
   "metadata": {},
   "source": [
    "### サンプルデータ"
   ]
  },
  {
   "cell_type": "code",
   "execution_count": null,
   "metadata": {
    "collapsed": false
   },
   "outputs": [],
   "source": [
    "set_covering(4, [(1, ('a', 'b')), (1, ('a', 'c')), (1, ('a', 'd')), (3, ('b', 'c'))])"
   ]
  }
 ],
 "metadata": {
  "kernelspec": {
   "display_name": "Python 3",
   "language": "python",
   "name": "python3"
  },
  "language_info": {
   "codemirror_mode": {
    "name": "ipython",
    "version": 3
   },
   "file_extension": ".py",
   "mimetype": "text/x-python",
   "name": "python",
   "nbconvert_exporter": "python",
   "pygments_lexer": "ipython3",
   "version": "3.4.3"
  }
 },
 "nbformat": 4,
 "nbformat_minor": 0
}
