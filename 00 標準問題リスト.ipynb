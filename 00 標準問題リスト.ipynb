{
 "cells": [
  {
   "cell_type": "markdown",
   "metadata": {},
   "source": [
    "# 標準問題\n",
    "\n",
    "<table>\n",
    "<tr><td>標準問題クラス</td><td>標準問題</td><td>標準問題クラス</td><td>標準問題</td></tr>\n",
    "<tr><td rowspan='7'>グラフ・ネットワーク問題</td>\n",
    "    <td>[最小全域木問題](01 最小全域木問題.ipynb)</td>\n",
    "        <td rowspan='2'>経路問題</td>\n",
    "        <td>[運搬経路問題](13 運搬経路問題.ipynb)</td></tr>\n",
    "<tr><td>[最大安定集合問題](02 最大安定集合問題.ipynb)</td>\n",
    "        <td>[巡回セールスマン問題](14 巡回セールスマン問題.ipynb)</td></tr>\n",
    "<tr><td>[最大カット問題](03 最大カット問題.ipynb)</td>\n",
    "        <td rowspan='2'>集合被覆・分割問題</td>\n",
    "        <td>[集合被覆問題](15 集合被覆問題.ipynb)</td></tr>\n",
    "<tr><td>[最小頂点被覆問題](04 最小頂点被覆問題.ipynb)</td>\n",
    "        <td>[集合分割問題](16 集合分割問題.ipynb)</td></tr>\n",
    "<tr><td>[最短路問題](05 最短路問題.ipynb)</td>\n",
    "        <td rowspan='2'>スケジューリング問題</td>\n",
    "        <td>[ジョブショップ問題](17 ジョブショップ問題.ipynb)</td></tr>\n",
    "<tr><td>[最大流問題](06 最大流問題.ipynb)</td>\n",
    "        <td>[勤務スケジューリング問題](18 勤務スケジューリング問題.ipynb)</td></tr>\n",
    "<tr><td>[最小費用流問題](07 最小費用流問題.ipynb)</td>\n",
    "        <td rowspan='3'>切出し・詰込み問題</td>\n",
    "        <td>[ナップサック問題](19 ナップサック問題.ipynb)</td></tr>\n",
    "<tr><td rowspan='5'>割当・マッチング問題</td>\n",
    "    <td>[2次割当問題](08 2次割当問題.ipynb)</td>\n",
    "        <td>[ビンパッキング問題](20 ビンパッキング問題.ipynb)</td></tr>\n",
    "<tr><td>[一般化割当問題](09 一般化割当問題.ipynb)</td>\n",
    "        <td>[n次元詰込み問題](21 n次元詰込み問題.ipynb)</td></tr>\n",
    "<tr><td>[最大マッチング問題](10 最大マッチング問題.ipynb)</td>\n",
    "        <td rowspan='2'>配置問題</td>\n",
    "        <td>[施設配置問題](22 施設配置問題.ipynb)</td></tr>\n",
    "<tr><td>[重みマッチング問題](11 重みマッチング問題.ipynb)</td>\n",
    "        <td>[容量制約なし施設配置問題](23 容量制約なし施設配置問題.ipynb)</td></tr>\n",
    "<tr><td>[安定マッチング問題](12 安定マッチング問題.ipynb)</td></tr>\n",
    "</table>"
   ]
  }
 ],
 "metadata": {
  "kernelspec": {
   "display_name": "Python 3",
   "language": "python",
   "name": "python3"
  },
  "language_info": {
   "codemirror_mode": {
    "name": "ipython",
    "version": 3
   },
   "file_extension": ".py",
   "mimetype": "text/x-python",
   "name": "python",
   "nbconvert_exporter": "python",
   "pygments_lexer": "ipython3",
   "version": "3.4.3"
  }
 },
 "nbformat": 4,
 "nbformat_minor": 0
}
