{
 "cells": [
  {
   "cell_type": "markdown",
   "metadata": {
    "collapsed": true
   },
   "source": [
    "## [最大流問題](http://qiita.com/Tsutomu-KKE@github/items/80e70da6717acacefa00)\n",
    "\n",
    "グラフ$G=(V,E)$の各辺$e_{ij}=(v_i,v_j)\\in E$が容量$c_{ij}$をもつとき、始点$v_s \\in V$(ソース)から終点$v_t \\in V$(シンク)への総流量が最大となるフローを求めよ。"
   ]
  },
  {
   "cell_type": "code",
   "execution_count": null,
   "metadata": {
    "collapsed": true
   },
   "outputs": [],
   "source": [
    "%matplotlib inline\n",
    "import pandas as pd, networkx as nx, matplotlib.pyplot as plt\n",
    "from ortoolpy import graph_from_table, networkx_draw\n",
    "plt.rcParams['figure.figsize'] = 8, 3"
   ]
  },
  {
   "cell_type": "code",
   "execution_count": null,
   "metadata": {
    "collapsed": false
   },
   "outputs": [],
   "source": [
    "help(nx.maximum_flow)"
   ]
  },
  {
   "cell_type": "markdown",
   "metadata": {},
   "source": [
    "### CSVデータ"
   ]
  },
  {
   "cell_type": "code",
   "execution_count": null,
   "metadata": {
    "collapsed": false
   },
   "outputs": [],
   "source": [
    "tbn = pd.read_csv('data/node0.csv')\n",
    "tbe = pd.read_csv('data/edge0.csv')\n",
    "g = graph_from_table(tbn, tbe)\n",
    "t = nx.maximum_flow(g, 5, 2)\n",
    "pos = networkx_draw(g)\n",
    "nx.draw_networkx_edges(g, pos, width=3, edgelist\n",
    "  =[(k1, k2) for k1, d in t[1].items() for k2, v in d.items() if v])\n",
    "for i, d in t[1].items():\n",
    "    for j, f in d.items():\n",
    "        if f: print((i, j), f)"
   ]
  },
  {
   "cell_type": "markdown",
   "metadata": {},
   "source": [
    "### 乱数データ"
   ]
  },
  {
   "cell_type": "code",
   "execution_count": null,
   "metadata": {
    "collapsed": false
   },
   "outputs": [],
   "source": [
    "g = nx.random_graphs.fast_gnp_random_graph(10, 0.3, 1)\n",
    "for i, j in g.edges():\n",
    "    g.adj[i][j]['capacity'] = 1\n",
    "t = nx.maximum_flow(g, 5, 6)\n",
    "pos = networkx_draw(g, nx.spring_layout(g))\n",
    "nx.draw_networkx_edges(g, pos, width=3, edgelist\n",
    "  =[(k1, k2) for k1, d in t[1].items() for k2, v in d.items() if v])\n",
    "for i, d in t[1].items():\n",
    "    for j, f in d.items():\n",
    "        if f: print((i, j), f)"
   ]
  }
 ],
 "metadata": {
  "kernelspec": {
   "display_name": "Python 3",
   "language": "python",
   "name": "python3"
  },
  "language_info": {
   "codemirror_mode": {
    "name": "ipython",
    "version": 3
   },
   "file_extension": ".py",
   "mimetype": "text/x-python",
   "name": "python",
   "nbconvert_exporter": "python",
   "pygments_lexer": "ipython3",
   "version": "3.4.3"
  }
 },
 "nbformat": 4,
 "nbformat_minor": 0
}
