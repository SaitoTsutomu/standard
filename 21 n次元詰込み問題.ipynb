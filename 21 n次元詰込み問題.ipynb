{
 "cells": [
  {
   "cell_type": "markdown",
   "metadata": {
    "collapsed": true
   },
   "source": [
    "## [n次元詰込み問題](http://qiita.com/Tsutomu-KKE@github/items/0ac9bd564ae9f91285d7)\n",
    "\n",
    "n次元の直方体に、なるべく多くのn次元の直方体の詰込む。その方法を求めよ。\n",
    "nは、1から3にあたる。nが1の場合、ナップサック問題で容量と価値が同じケースとなる。"
   ]
  },
  {
   "cell_type": "code",
   "execution_count": null,
   "metadata": {
    "collapsed": true
   },
   "outputs": [],
   "source": [
    "from ortoolpy import TwoDimPacking"
   ]
  },
  {
   "cell_type": "code",
   "execution_count": null,
   "metadata": {
    "collapsed": false
   },
   "outputs": [],
   "source": [
    "help(TwoDimPacking)"
   ]
  },
  {
   "cell_type": "code",
   "execution_count": null,
   "metadata": {
    "collapsed": false
   },
   "outputs": [],
   "source": [
    "TwoDimPacking(500, 300, [(240, 150), (260, 100), \\\n",
    "    (100, 200), (240, 150), (160, 200)]).solve()"
   ]
  }
 ],
 "metadata": {
  "kernelspec": {
   "display_name": "Python 3",
   "language": "python",
   "name": "python3"
  },
  "language_info": {
   "codemirror_mode": {
    "name": "ipython",
    "version": 3
   },
   "file_extension": ".py",
   "mimetype": "text/x-python",
   "name": "python",
   "nbconvert_exporter": "python",
   "pygments_lexer": "ipython3",
   "version": "3.4.3"
  }
 },
 "nbformat": 4,
 "nbformat_minor": 0
}
