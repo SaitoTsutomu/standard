{
 "cells": [
  {
   "cell_type": "markdown",
   "metadata": {
    "collapsed": true
   },
   "source": [
    "## [最小頂点被覆問題](http://qiita.com/Tsutomu-KKE@github/items/179db1bd283ab4d926d1)\n",
    "\n",
    "無向グラフ$G=(V, E)$において頂点被覆$C$のうち重みの和が最小のものを求めよ。"
   ]
  },
  {
   "cell_type": "code",
   "execution_count": null,
   "metadata": {
    "collapsed": true
   },
   "outputs": [],
   "source": [
    "%matplotlib inline\n",
    "import pandas as pd, networkx as nx, matplotlib.pyplot as plt\n",
    "from ortoolpy import graph_from_table, networkx_draw, min_node_cover\n",
    "plt.rcParams['figure.figsize'] = 8, 3"
   ]
  },
  {
   "cell_type": "code",
   "execution_count": null,
   "metadata": {
    "collapsed": false
   },
   "outputs": [],
   "source": [
    "help(min_node_cover)"
   ]
  },
  {
   "cell_type": "markdown",
   "metadata": {},
   "source": [
    "### CSVデータ"
   ]
  },
  {
   "cell_type": "code",
   "execution_count": null,
   "metadata": {
    "collapsed": false
   },
   "outputs": [],
   "source": [
    "tbn = pd.read_csv('data/node0.csv')\n",
    "tbe = pd.read_csv('data/edge0.csv')\n",
    "g = graph_from_table(tbn, tbe)\n",
    "t = min_node_cover(g)\n",
    "pos = networkx_draw(g, node_color='white')\n",
    "nx.draw_networkx_nodes(g, pos, nodelist=t)\n",
    "print(t)"
   ]
  },
  {
   "cell_type": "markdown",
   "metadata": {},
   "source": [
    "### 乱数データ"
   ]
  },
  {
   "cell_type": "code",
   "execution_count": null,
   "metadata": {
    "collapsed": false
   },
   "outputs": [],
   "source": [
    "g = nx.random_graphs.fast_gnp_random_graph(10, 0.3, 1)\n",
    "l = min_node_cover(g)\n",
    "pos = networkx_draw(g, nx.spring_layout(g), node_color='white')\n",
    "nx.draw_networkx_nodes(g, pos, nodelist=l)\n",
    "print(t)"
   ]
  }
 ],
 "metadata": {
  "kernelspec": {
   "display_name": "Python 3",
   "language": "python",
   "name": "python3"
  },
  "language_info": {
   "codemirror_mode": {
    "name": "ipython",
    "version": 3
   },
   "file_extension": ".py",
   "mimetype": "text/x-python",
   "name": "python",
   "nbconvert_exporter": "python",
   "pygments_lexer": "ipython3",
   "version": "3.4.3"
  }
 },
 "nbformat": 4,
 "nbformat_minor": 0
}
