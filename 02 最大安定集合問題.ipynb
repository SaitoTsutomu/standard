{
 "cells": [
  {
   "cell_type": "markdown",
   "metadata": {
    "collapsed": true
   },
   "source": [
    "## [最大安定集合問題](http://qiita.com/Tsutomu-KKE@github/items/33ad03bcaa421eb2ba17)\n",
    "\n",
    "無向グラフ$G=(V, E)$において、重みの和が最大の安定集合(互いに隣接していない節点の集合)を求めよ。"
   ]
  },
  {
   "cell_type": "code",
   "execution_count": null,
   "metadata": {
    "collapsed": true
   },
   "outputs": [],
   "source": [
    "%matplotlib inline\n",
    "import pandas as pd, networkx as nx, matplotlib.pyplot as plt\n",
    "from ortoolpy import graph_from_table, networkx_draw, maximum_stable_set\n",
    "plt.rcParams['figure.figsize'] = 8, 3"
   ]
  },
  {
   "cell_type": "code",
   "execution_count": null,
   "metadata": {
    "collapsed": false
   },
   "outputs": [],
   "source": [
    "help(maximum_stable_set)"
   ]
  },
  {
   "cell_type": "markdown",
   "metadata": {},
   "source": [
    "### CSVデータ"
   ]
  },
  {
   "cell_type": "code",
   "execution_count": null,
   "metadata": {
    "collapsed": false
   },
   "outputs": [],
   "source": [
    "tbn = pd.read_csv('data/node0.csv')\n",
    "tbe = pd.read_csv('data/edge0.csv')\n",
    "g = graph_from_table(tbn, tbe)\n",
    "t = maximum_stable_set(g)\n",
    "pos = networkx_draw(g, node_color='white')\n",
    "nx.draw_networkx_nodes(g, pos, nodelist=t[1])\n",
    "print(t)"
   ]
  },
  {
   "cell_type": "markdown",
   "metadata": {},
   "source": [
    "### 乱数データ"
   ]
  },
  {
   "cell_type": "code",
   "execution_count": null,
   "metadata": {
    "collapsed": false
   },
   "outputs": [],
   "source": [
    "g = nx.random_graphs.fast_gnp_random_graph(10, 0.3, 1)\n",
    "t = maximum_stable_set(g)\n",
    "pos = networkx_draw(g, nx.spring_layout(g), node_color='white')\n",
    "nx.draw_networkx_nodes(g, pos, nodelist=t[1])\n",
    "print(t)"
   ]
  }
 ],
 "metadata": {
  "kernelspec": {
   "display_name": "Python 3",
   "language": "python",
   "name": "python3"
  },
  "language_info": {
   "codemirror_mode": {
    "name": "ipython",
    "version": 3
   },
   "file_extension": ".py",
   "mimetype": "text/x-python",
   "name": "python",
   "nbconvert_exporter": "python",
   "pygments_lexer": "ipython3",
   "version": "3.4.3"
  }
 },
 "nbformat": 4,
 "nbformat_minor": 0
}
