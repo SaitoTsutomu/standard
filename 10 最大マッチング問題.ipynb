{
 "cells": [
  {
   "cell_type": "markdown",
   "metadata": {
    "collapsed": true
   },
   "source": [
    "## [最大マッチング問題](http://qiita.com/Tsutomu-KKE@github/items/37262bef6f2cab331e01)\n",
    "\n",
    "無向グラフ$G=(V,E)$に対し辺の本数が最大のマッチングを求めよ。"
   ]
  },
  {
   "cell_type": "code",
   "execution_count": null,
   "metadata": {
    "collapsed": true
   },
   "outputs": [],
   "source": [
    "%matplotlib inline\n",
    "import pandas as pd, networkx as nx, matplotlib.pyplot as plt\n",
    "from ortoolpy import graph_from_table, networkx_draw\n",
    "plt.rcParams['figure.figsize'] = 8, 3"
   ]
  },
  {
   "cell_type": "code",
   "execution_count": null,
   "metadata": {
    "collapsed": false
   },
   "outputs": [],
   "source": [
    "help(nx.max_weight_matching)"
   ]
  },
  {
   "cell_type": "markdown",
   "metadata": {},
   "source": [
    "### CSVデータ"
   ]
  },
  {
   "cell_type": "code",
   "execution_count": null,
   "metadata": {
    "collapsed": false
   },
   "outputs": [],
   "source": [
    "tbn = pd.read_csv('data/node0.csv')\n",
    "tbe = pd.read_csv('data/edge0.csv')\n",
    "g = graph_from_table(tbn, tbe)\n",
    "for i, j in g.edges():\n",
    "    del g.adj[i][j]['weight']\n",
    "d = nx.max_weight_matching(g)\n",
    "pos = networkx_draw(g)\n",
    "nx.draw_networkx_edges(g, pos, width=3, edgelist=[(i, j) for i, j in d.items()])\n",
    "print(d)"
   ]
  },
  {
   "cell_type": "markdown",
   "metadata": {},
   "source": [
    "### 乱数データ"
   ]
  },
  {
   "cell_type": "code",
   "execution_count": null,
   "metadata": {
    "collapsed": false
   },
   "outputs": [],
   "source": [
    "g = nx.random_graphs.fast_gnp_random_graph(10, 0.3, 1)\n",
    "d = nx.max_weight_matching(g)\n",
    "pos = networkx_draw(g, nx.spring_layout(g))\n",
    "nx.draw_networkx_edges(g, pos, width=3, edgelist=[(i, j) for i, j in d.items()])\n",
    "print(d)"
   ]
  }
 ],
 "metadata": {
  "kernelspec": {
   "display_name": "Python 3",
   "language": "python",
   "name": "python3"
  },
  "language_info": {
   "codemirror_mode": {
    "name": "ipython",
    "version": 3
   },
   "file_extension": ".py",
   "mimetype": "text/x-python",
   "name": "python",
   "nbconvert_exporter": "python",
   "pygments_lexer": "ipython3",
   "version": "3.4.3"
  }
 },
 "nbformat": 4,
 "nbformat_minor": 0
}
