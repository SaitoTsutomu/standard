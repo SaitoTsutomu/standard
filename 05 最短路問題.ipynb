{
 "cells": [
  {
   "cell_type": "markdown",
   "metadata": {
    "collapsed": true
   },
   "source": [
    "## [最短路問題](http://qiita.com/Tsutomu-KKE@github/items/565c59fac36badb6a80c)\n",
    "\n",
    "グラフ$G=(V,E)$の各辺$e_{ij}=(v_i,v_j)\\in E$が重み$a_{ij}$をもつとき、始点$v_s \\in V$から終点$v_t \\in V$への路の中で最も重みの和の小さいものを求めよ。"
   ]
  },
  {
   "cell_type": "code",
   "execution_count": null,
   "metadata": {
    "collapsed": true
   },
   "outputs": [],
   "source": [
    "import pandas as pd, networkx as nx\n",
    "from ortoolpy import graph_from_table"
   ]
  },
  {
   "cell_type": "code",
   "execution_count": null,
   "metadata": {
    "collapsed": false
   },
   "outputs": [],
   "source": [
    "help(nx.dijkstra_path)"
   ]
  },
  {
   "cell_type": "markdown",
   "metadata": {},
   "source": [
    "### CSVデータ"
   ]
  },
  {
   "cell_type": "code",
   "execution_count": null,
   "metadata": {
    "collapsed": false
   },
   "outputs": [],
   "source": [
    "tbn = pd.read_csv('data/node0.csv')\n",
    "tbe = pd.read_csv('data/edge0.csv')\n",
    "g = graph_from_table(tbn, tbe)\n",
    "print(nx.dijkstra_path(g, 5, 2))"
   ]
  },
  {
   "cell_type": "markdown",
   "metadata": {},
   "source": [
    "### 乱数データ"
   ]
  },
  {
   "cell_type": "code",
   "execution_count": null,
   "metadata": {
    "collapsed": false
   },
   "outputs": [],
   "source": [
    "g = nx.fast_gnp_random_graph(8, 0.26, 1)\n",
    "print(nx.dijkstra_path(g, 0, 2))"
   ]
  }
 ],
 "metadata": {
  "kernelspec": {
   "display_name": "Python 3",
   "language": "python",
   "name": "python3"
  },
  "language_info": {
   "codemirror_mode": {
    "name": "ipython",
    "version": 3
   },
   "file_extension": ".py",
   "mimetype": "text/x-python",
   "name": "python",
   "nbconvert_exporter": "python",
   "pygments_lexer": "ipython3",
   "version": "3.4.3"
  }
 },
 "nbformat": 4,
 "nbformat_minor": 0
}
