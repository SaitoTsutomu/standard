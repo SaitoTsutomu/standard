{
 "cells": [
  {
   "cell_type": "markdown",
   "metadata": {
    "collapsed": true
   },
   "source": [
    "## [最大カット問題](http://qiita.com/Tsutomu-KKE@github/items/d716413c4b93b22eaad3)\n",
    "\n",
    "無向グラフ$G=(V, E)$において、各辺$e_{ij}=(v_i,v_j)\\in E$に非負の重み$w_{ij}$が付与されているとする。このとき、$\\sum_{v_i \\in V_1, v_j \\in V_2}{w_{ij}}$を最大にする$V_1, V_2(=V \\setminus V_1)$を求めよ。"
   ]
  },
  {
   "cell_type": "code",
   "execution_count": null,
   "metadata": {
    "collapsed": true
   },
   "outputs": [],
   "source": [
    "%matplotlib inline\n",
    "import pandas as pd, networkx as nx, matplotlib.pyplot as plt\n",
    "from ortoolpy import graph_from_table, networkx_draw, maximum_cut\n",
    "plt.rcParams['figure.figsize'] = 8, 3"
   ]
  },
  {
   "cell_type": "code",
   "execution_count": null,
   "metadata": {
    "collapsed": false
   },
   "outputs": [],
   "source": [
    "help(maximum_cut)"
   ]
  },
  {
   "cell_type": "markdown",
   "metadata": {},
   "source": [
    "### CSVデータ"
   ]
  },
  {
   "cell_type": "code",
   "execution_count": null,
   "metadata": {
    "collapsed": false
   },
   "outputs": [],
   "source": [
    "tbn = pd.read_csv('data/node0.csv')\n",
    "tbe = pd.read_csv('data/edge0.csv')\n",
    "g = graph_from_table(tbn, tbe)\n",
    "t = maximum_cut(g)\n",
    "pos = networkx_draw(g, node_color='white')\n",
    "nx.draw_networkx_nodes(g, pos, nodelist=t[1])\n",
    "print(t)"
   ]
  },
  {
   "cell_type": "markdown",
   "metadata": {},
   "source": [
    "### 乱数データ"
   ]
  },
  {
   "cell_type": "code",
   "execution_count": null,
   "metadata": {
    "collapsed": false
   },
   "outputs": [],
   "source": [
    "g = nx.random_graphs.fast_gnp_random_graph(10, 0.3, 4)\n",
    "for i, j in g.edges():\n",
    "    g.adj[i][j]['weight'] = 1\n",
    "t = maximum_cut(g)\n",
    "pos = networkx_draw(g, nx.spring_layout(g), node_color='white')\n",
    "nx.draw_networkx_nodes(g, pos, nodelist=t[1])\n",
    "print(t)"
   ]
  }
 ],
 "metadata": {
  "kernelspec": {
   "display_name": "Python 3",
   "language": "python",
   "name": "python3"
  },
  "language_info": {
   "codemirror_mode": {
    "name": "ipython",
    "version": 3
   },
   "file_extension": ".py",
   "mimetype": "text/x-python",
   "name": "python",
   "nbconvert_exporter": "python",
   "pygments_lexer": "ipython3",
   "version": "3.4.3"
  }
 },
 "nbformat": 4,
 "nbformat_minor": 0
}
