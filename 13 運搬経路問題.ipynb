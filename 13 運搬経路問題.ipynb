{
 "cells": [
  {
   "cell_type": "markdown",
   "metadata": {
    "collapsed": true
   },
   "source": [
    "## [運搬経路問題](http://qiita.com/Tsutomu-KKE@github/items/1126e1493ff601a858c9)\n",
    "\n",
    "顧客の集合$V=\\{0, 1, \\dots, n\\}$(ただし$0$はルートの起点となるデポを表す)と運搬車の集合$M=\\{1, \\dots, m\\}$が与えられている。各運搬車はデポから出発して割当てられた顧客集合を巡り配送を行いデポに戻る。各顧客$i \\in V$についてサービスの需要量は$a_i(\\ge 0)$、各運搬車$k \\in M$の最大積載量は$u(\\ge 0)$であり、顧客$i$と顧客$j$間の移動コストは$c_{ij}(\\ge 0)$とする。各顧客の需要は1台で1回の訪問で満たされるとする。移動コストが最小となるように、全ての運搬車のルートを求めよ。\n"
   ]
  },
  {
   "cell_type": "code",
   "execution_count": null,
   "metadata": {
    "collapsed": false
   },
   "outputs": [],
   "source": [
    "%matplotlib inline\n",
    "import pandas as pd, networkx as nx, matplotlib.pyplot as plt\n",
    "from ortoolpy import vrp, graph_from_table, networkx_draw\n",
    "plt.rcParams['figure.figsize'] = 8, 3"
   ]
  },
  {
   "cell_type": "code",
   "execution_count": null,
   "metadata": {
    "collapsed": false
   },
   "outputs": [],
   "source": [
    "help(vrp)"
   ]
  },
  {
   "cell_type": "markdown",
   "metadata": {},
   "source": [
    "### CSVデータ"
   ]
  },
  {
   "cell_type": "code",
   "execution_count": null,
   "metadata": {
    "collapsed": false
   },
   "outputs": [],
   "source": [
    "tbn = pd.read_csv('data/node1.csv')\n",
    "tbe = pd.read_csv('data/edge1.csv')\n",
    "g = graph_from_table(tbn, tbe).to_directed()\n",
    "networkx_draw(g)\n",
    "nv, capa = 2, 3 # 車両数、車両容量\n",
    "print(vrp(g, nv, capa))"
   ]
  },
  {
   "cell_type": "markdown",
   "metadata": {},
   "source": [
    "### サンプルデータ"
   ]
  },
  {
   "cell_type": "code",
   "execution_count": null,
   "metadata": {
    "collapsed": false
   },
   "outputs": [],
   "source": [
    "nc, nv, capa = 5, 2, 3 # 顧客数、車両数、車両容量\n",
    "g = nx.DiGraph()\n",
    "g.add_node(0, demand=0)\n",
    "g.add_nodes_from(range(1, nc + 1), demand=1)\n",
    "g.add_edges_from([(0, i) for i in range(1, nc + 1)], cost=10)\n",
    "g.add_edges_from([(i, 0) for i in range(1, nc + 1)], cost=10)\n",
    "for i, j, t in ((1, 3, 16), (3, 5, 1), (5, 2, 1), (2, 4, 18), (4, 1, 1)):\n",
    "    g.add_edge(i, j, cost=t)\n",
    "    g.add_edge(j, i, cost=t)\n",
    "networkx_draw(g, nx.spring_layout(g))\n",
    "print(vrp(g, nv, capa))"
   ]
  }
 ],
 "metadata": {
  "kernelspec": {
   "display_name": "Python 3",
   "language": "python",
   "name": "python3"
  },
  "language_info": {
   "codemirror_mode": {
    "name": "ipython",
    "version": 3
   },
   "file_extension": ".py",
   "mimetype": "text/x-python",
   "name": "python",
   "nbconvert_exporter": "python",
   "pygments_lexer": "ipython3",
   "version": "3.4.3"
  }
 },
 "nbformat": 4,
 "nbformat_minor": 0
}
