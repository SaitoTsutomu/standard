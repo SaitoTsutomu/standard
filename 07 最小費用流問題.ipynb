{
 "cells": [
  {
   "cell_type": "markdown",
   "metadata": {
    "collapsed": true
   },
   "source": [
    "## [最小費用流問題](http://qiita.com/Tsutomu-KKE@github/items/41d625df63f1946c7216)\n",
    "\n",
    "有向グラフ$G=(V,E)$において、各辺の容量と重みさらに節点の需要量が与えられたとき、各辺の容量を超過せずに各辺の流量に対する重みの総和がが最小となるフローを求めよ。\n",
    "- 各節点において、「流入量 - 流出量」は、需要量と等しい。\n",
    "- 需要量が負の場合、供給量を表す。\n",
    "- 全ての節点の需要量の和は0でなければいけない。"
   ]
  },
  {
   "cell_type": "code",
   "execution_count": null,
   "metadata": {
    "collapsed": true
   },
   "outputs": [],
   "source": [
    "import pandas as pd, networkx as nx\n",
    "from ortoolpy import graph_from_table"
   ]
  },
  {
   "cell_type": "code",
   "execution_count": null,
   "metadata": {
    "collapsed": true
   },
   "outputs": [],
   "source": [
    "help(nx.min_cost_flow)"
   ]
  },
  {
   "cell_type": "markdown",
   "metadata": {},
   "source": [
    "### CSVデータ"
   ]
  },
  {
   "cell_type": "code",
   "execution_count": null,
   "metadata": {
    "collapsed": false
   },
   "outputs": [],
   "source": [
    "tbn = pd.read_csv('data/node0.csv')\n",
    "tbe = pd.read_csv('data/edge0.csv')\n",
    "g = graph_from_table(tbn, tbe, directed=True)\n",
    "result = nx.min_cost_flow(g)\n",
    "for i, d in result.items():\n",
    "    for j, f in d.items():\n",
    "        if f: print((i, j), f)"
   ]
  },
  {
   "cell_type": "markdown",
   "metadata": {},
   "source": [
    "### 乱数データ"
   ]
  },
  {
   "cell_type": "code",
   "execution_count": null,
   "metadata": {
    "collapsed": false
   },
   "outputs": [],
   "source": [
    "g = nx.fast_gnp_random_graph(8, 0.2, 1, True)\n",
    "g.node[1]['demand'] = -2 # 供給\n",
    "g.node[7]['demand'] = 2 # 需要\n",
    "g.adj[2][7]['capacity'] = 1 # 容量\n",
    "result = nx.min_cost_flow(g)\n",
    "for i, d in result.items():\n",
    "    for j, f in d.items():\n",
    "        if f: print((i, j), f)"
   ]
  }
 ],
 "metadata": {
  "kernelspec": {
   "display_name": "Python 3",
   "language": "python",
   "name": "python3"
  },
  "language_info": {
   "codemirror_mode": {
    "name": "ipython",
    "version": 3
   },
   "file_extension": ".py",
   "mimetype": "text/x-python",
   "name": "python",
   "nbconvert_exporter": "python",
   "pygments_lexer": "ipython3",
   "version": "3.4.3"
  }
 },
 "nbformat": 4,
 "nbformat_minor": 0
}
