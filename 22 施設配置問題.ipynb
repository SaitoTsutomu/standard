{
 "cells": [
  {
   "cell_type": "markdown",
   "metadata": {
    "collapsed": true
   },
   "source": [
    "## [施設配置問題](http://qiita.com/Tsutomu-KKE@github/items/c5055be8144e085274c1)\n",
    "\n",
    "顧客(需要地点)の集合$D$と施設の配置可能地点の集合$F$があり、それぞれに容量が与えられる。各顧客$i \\in D$は、必ずいずれかの施設$i \\in F$に移動する。各施設の容量を満たし、顧客の容量と移動距離の総和を最小にするように、顧客の移動先を求めよ。ただし、施設は、$p$個までしか利用することができない。"
   ]
  },
  {
   "cell_type": "code",
   "execution_count": null,
   "metadata": {
    "collapsed": true
   },
   "outputs": [],
   "source": [
    "from ortoolpy import facility_location"
   ]
  },
  {
   "cell_type": "code",
   "execution_count": null,
   "metadata": {
    "collapsed": false
   },
   "outputs": [],
   "source": [
    "help(facility_location)"
   ]
  },
  {
   "cell_type": "code",
   "execution_count": null,
   "metadata": {
    "collapsed": false
   },
   "outputs": [],
   "source": [
    "facility_location(2, [(1, 0, 1), (0, 1, 1), (2, 2, 1)], \n",
    "                     [(1, 0, 1), (0, 1, 1), (2, 2, 2)])"
   ]
  }
 ],
 "metadata": {
  "kernelspec": {
   "display_name": "Python 3",
   "language": "python",
   "name": "python3"
  },
  "language_info": {
   "codemirror_mode": {
    "name": "ipython",
    "version": 3
   },
   "file_extension": ".py",
   "mimetype": "text/x-python",
   "name": "python",
   "nbconvert_exporter": "python",
   "pygments_lexer": "ipython3",
   "version": "3.4.3"
  }
 },
 "nbformat": 4,
 "nbformat_minor": 0
}
