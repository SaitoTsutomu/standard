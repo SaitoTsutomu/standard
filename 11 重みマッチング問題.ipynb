{
 "cells": [
  {
   "cell_type": "markdown",
   "metadata": {
    "collapsed": true
   },
   "source": [
    "## [重みマッチング問題](http://qiita.com/Tsutomu-KKE@github/items/bbebc69ebc2549b0d5d2)\n",
    "\n",
    "無向グラフ$G=(V,E)$に対し、各辺$e \\in E$の重み$w(e)$が与えられているとき、$\\sum_{e \\in M}{w(e)}$が最大のマッチング$M$を求めよ。\n",
    "\n",
    "重みマッチング問題は、最大重みマッチング問題、最大重み最大マッチング問題、最大重み完全マッチング問題、最小重み最大マッチング問題、最小重み完全マッチング問題などの総称である。"
   ]
  },
  {
   "cell_type": "code",
   "execution_count": null,
   "metadata": {
    "collapsed": true
   },
   "outputs": [],
   "source": [
    "%matplotlib inline\n",
    "import pandas as pd, networkx as nx, matplotlib.pyplot as plt\n",
    "from ortoolpy import graph_from_table, networkx_draw\n",
    "plt.rcParams['figure.figsize'] = 8, 3"
   ]
  },
  {
   "cell_type": "code",
   "execution_count": null,
   "metadata": {
    "collapsed": false
   },
   "outputs": [],
   "source": [
    "help(nx.max_weight_matching)"
   ]
  },
  {
   "cell_type": "markdown",
   "metadata": {},
   "source": [
    "### CSVデータ"
   ]
  },
  {
   "cell_type": "code",
   "execution_count": null,
   "metadata": {
    "collapsed": false
   },
   "outputs": [],
   "source": [
    "tbn = pd.read_csv('data/node0.csv')\n",
    "tbe = pd.read_csv('data/edge0.csv')\n",
    "g = graph_from_table(tbn, tbe)\n",
    "d = nx.max_weight_matching(g)\n",
    "pos = networkx_draw(g)\n",
    "nx.draw_networkx_edges(g, pos, width=3, edgelist=[(i, j) for i, j in d.items()])\n",
    "print(d)"
   ]
  },
  {
   "cell_type": "markdown",
   "metadata": {},
   "source": [
    "### 乱数データ"
   ]
  },
  {
   "cell_type": "code",
   "execution_count": null,
   "metadata": {
    "collapsed": false
   },
   "outputs": [],
   "source": [
    "g = nx.random_graphs.fast_gnp_random_graph(10, 0.3, 1)\n",
    "for i, j in g.edges():\n",
    "    g.adj[i][j]['weight'] = 1\n",
    "d = nx.max_weight_matching(g)\n",
    "pos = networkx_draw(g, nx.spring_layout(g))\n",
    "nx.draw_networkx_edges(g, pos, width=3, edgelist=[(i, j) for i, j in d.items()])\n",
    "print(d)"
   ]
  }
 ],
 "metadata": {
  "kernelspec": {
   "display_name": "Python 3",
   "language": "python",
   "name": "python3"
  },
  "language_info": {
   "codemirror_mode": {
    "name": "ipython",
    "version": 3
   },
   "file_extension": ".py",
   "mimetype": "text/x-python",
   "name": "python",
   "nbconvert_exporter": "python",
   "pygments_lexer": "ipython3",
   "version": "3.4.3"
  }
 },
 "nbformat": 4,
 "nbformat_minor": 0
}
