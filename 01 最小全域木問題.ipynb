{
 "cells": [
  {
   "cell_type": "markdown",
   "metadata": {
    "collapsed": true
   },
   "source": [
    "## [最小全域木問題](http://qiita.com/Tsutomu-KKE@github/items/3130634debf561608bd9)\n",
    "\n",
    "無向グラフ$G=(V, E)$上の辺$e$の重みを$w(e)$とするとき、全域木$T=(V,E_T)$上の辺の重みの総和$\\sum_{e \\in E_T}{w(e)}$が最小になる全域木を求めよ。\n"
   ]
  },
  {
   "cell_type": "code",
   "execution_count": null,
   "metadata": {
    "collapsed": true
   },
   "outputs": [],
   "source": [
    "%matplotlib inline\n",
    "import math, pandas as pd, networkx as nx, matplotlib.pyplot as plt\n",
    "from ortoolpy import graph_from_table, networkx_draw\n",
    "plt.rcParams['figure.figsize'] = 8, 3"
   ]
  },
  {
   "cell_type": "code",
   "execution_count": null,
   "metadata": {
    "collapsed": false
   },
   "outputs": [],
   "source": [
    "help(nx.minimum_spanning_tree)"
   ]
  },
  {
   "cell_type": "markdown",
   "metadata": {},
   "source": [
    "### CSVデータ"
   ]
  },
  {
   "cell_type": "code",
   "execution_count": null,
   "metadata": {
    "collapsed": false
   },
   "outputs": [],
   "source": [
    "tbn = pd.read_csv('data/node0.csv')\n",
    "tbe = pd.read_csv('data/edge0.csv')\n",
    "g = graph_from_table(tbn, tbe)\n",
    "t = nx.minimum_spanning_tree(g)\n",
    "pos = networkx_draw(g)\n",
    "nx.draw_networkx_edges(t, pos, width=3)\n",
    "print(t.edges())"
   ]
  },
  {
   "cell_type": "markdown",
   "metadata": {},
   "source": [
    "### 乱数データ"
   ]
  },
  {
   "cell_type": "code",
   "execution_count": null,
   "metadata": {
    "collapsed": false
   },
   "outputs": [],
   "source": [
    "g = nx.random_graphs.fast_gnp_random_graph(10, 0.3, 1)\n",
    "pos = nx.spring_layout(g)\n",
    "for i, j in g.edges():\n",
    "    g.adj[i][j]['weight'] = math.sqrt(sum((pos[i] - pos[j])**2))\n",
    "t = nx.minimum_spanning_tree(g)\n",
    "pos = networkx_draw(g, nx.spring_layout(g))\n",
    "nx.draw_networkx_edges(t, pos, width=3)\n",
    "print(t.edges())"
   ]
  }
 ],
 "metadata": {
  "kernelspec": {
   "display_name": "Python 3",
   "language": "python",
   "name": "python3"
  },
  "language_info": {
   "codemirror_mode": {
    "name": "ipython",
    "version": 3
   },
   "file_extension": ".py",
   "mimetype": "text/x-python",
   "name": "python",
   "nbconvert_exporter": "python",
   "pygments_lexer": "ipython3",
   "version": "3.4.3"
  }
 },
 "nbformat": 4,
 "nbformat_minor": 0
}
