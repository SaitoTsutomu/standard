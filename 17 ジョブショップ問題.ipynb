{
 "cells": [
  {
   "cell_type": "markdown",
   "metadata": {
    "collapsed": true
   },
   "source": [
    "## [ジョブショップ問題](http://qiita.com/Tsutomu-KKE@github/items/d088959bf884d40b2053)\n",
    "\n",
    "与えられた$n$個のジョブ$V=\\{1,\\dots,n\\}$を$m$台の機械で処理する。1つの機械では、同時に1つのジョブしか処理できない。全てのジョブの終了時間を最小にするスケジュールを求めよ。\n",
    "どのジョブに対しても機械の処理順序が決まっている場合、フローショップ問題という。"
   ]
  },
  {
   "cell_type": "code",
   "execution_count": null,
   "metadata": {
    "collapsed": true
   },
   "outputs": [],
   "source": [
    "from ortoolpy import two_machine_flowshop"
   ]
  },
  {
   "cell_type": "code",
   "execution_count": null,
   "metadata": {
    "collapsed": false
   },
   "outputs": [],
   "source": [
    "help(two_machine_flowshop)"
   ]
  },
  {
   "cell_type": "code",
   "execution_count": null,
   "metadata": {
    "collapsed": false
   },
   "outputs": [],
   "source": [
    "two_machine_flowshop([(4, 3), (3, 1), (1, 4)])"
   ]
  }
 ],
 "metadata": {
  "kernelspec": {
   "display_name": "Python 3",
   "language": "python",
   "name": "python3"
  },
  "language_info": {
   "codemirror_mode": {
    "name": "ipython",
    "version": 3
   },
   "file_extension": ".py",
   "mimetype": "text/x-python",
   "name": "python",
   "nbconvert_exporter": "python",
   "pygments_lexer": "ipython3",
   "version": "3.4.3"
  }
 },
 "nbformat": 4,
 "nbformat_minor": 0
}
