{
 "cells": [
  {
   "cell_type": "markdown",
   "metadata": {
    "collapsed": true
   },
   "source": [
    "## [ナップサック問題](http://qiita.com/Tsutomu-KKE@github/items/d3c07494e7ba992bf19d)\n",
    "\n",
    "容量$c(\\gt 0)$のナップサックと$n$個の荷物$N=\\{1,\\dots,n\\}$が与えられている。荷物$i \\in N$の容量を$w_i(\\gt 0)$、価値を$p_i(\\gt 0)$とする。容量制限$c$の範囲で価値の和が最大になる荷物の詰合わせを求めよ。"
   ]
  },
  {
   "cell_type": "code",
   "execution_count": null,
   "metadata": {
    "collapsed": true
   },
   "outputs": [],
   "source": [
    "from ortoolpy import knapsack"
   ]
  },
  {
   "cell_type": "code",
   "execution_count": null,
   "metadata": {
    "collapsed": false
   },
   "outputs": [],
   "source": [
    "help(knapsack)"
   ]
  },
  {
   "cell_type": "code",
   "execution_count": null,
   "metadata": {
    "collapsed": false
   },
   "outputs": [],
   "source": [
    "size = [21, 11, 15, 9, 34, 25, 41, 52]\n",
    "weight = [22, 12, 16, 10, 35, 26, 42, 53]\n",
    "capacity = 100\n",
    "print(knapsack(size, weight, capacity))"
   ]
  }
 ],
 "metadata": {
  "kernelspec": {
   "display_name": "Python 3",
   "language": "python",
   "name": "python3"
  },
  "language_info": {
   "codemirror_mode": {
    "name": "ipython",
    "version": 3
   },
   "file_extension": ".py",
   "mimetype": "text/x-python",
   "name": "python",
   "nbconvert_exporter": "python",
   "pygments_lexer": "ipython3",
   "version": "3.4.3"
  }
 },
 "nbformat": 4,
 "nbformat_minor": 0
}
